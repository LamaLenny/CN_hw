{
 "cells": [
  {
   "cell_type": "code",
   "execution_count": 1,
   "metadata": {},
   "outputs": [],
   "source": [
    "import numpy as np"
   ]
  },
  {
   "cell_type": "code",
   "execution_count": 2,
   "metadata": {},
   "outputs": [],
   "source": [
    "ETA = 1\n",
    "TAU = 1\n",
    "TAU_S = 1\n",
    "SPIKE_THR = 0.5"
   ]
  },
  {
   "cell_type": "code",
   "execution_count": 3,
   "metadata": {},
   "outputs": [],
   "source": [
    "def eta(s):\n",
    "    return -ETA * np.exp(-s / TAU) * (s > 0)\n",
    "\n",
    "def eps(s, d):\n",
    "    res = (s - d) / TAU_S\n",
    "    return res * np.exp(-res) * (s > 0)"
   ]
  },
  {
   "cell_type": "code",
   "execution_count": 4,
   "metadata": {},
   "outputs": [],
   "source": [
    "class Layer:\n",
    "    def __init__(self, in_dim, out_dim, max_time):\n",
    "        self.in_dim = in_dim\n",
    "        self.out_dim = out_dim\n",
    "        self.W = np.random.uniform(low=0, high=1, size=(in_dim, out_dim))\n",
    "        self.D = np.random.uniform(low=1, high=5, size=(in_dim, out_dim))\n",
    "        \n",
    "        self.u = np.zeros((max_time, out_dim))\n",
    "    \n",
    "    def calc(self, t, last_time_spike_prev, last_time_spike_cur):\n",
    "        for i in range(self.out_dim):\n",
    "            first_add = eta(t - last_time_spike_cur[i])\n",
    "            second_add = sum([self.W[j, i] * eps(t - last_time_spike_prev[j], self.D[j, i])] \n",
    "                             for j in range(self.input))\n",
    "            self.u[t, i] = first_add + second_add"
   ]
  },
  {
   "cell_type": "code",
   "execution_count": 5,
   "metadata": {},
   "outputs": [],
   "source": [
    "class SNN:\n",
    "    def __init__(self, in_dim, hidden_dims, out_dim, max_time):\n",
    "        self.layers = [Layer(in_dim, hidden_dims[0], max_time), \n",
    "                       Layer(hidden_dims[0], hidden_dims[1], max_time), \n",
    "                       Layer(hidden_dims[1], out_dim, max_time)\n",
    "                      ]\n",
    "        \n",
    "        self.last_time_spike_inp = np.array([np.float('-inf')] * in_dim)\n",
    "        self.last_time_spike_h0 = np.array([np.float('-inf')] * hidden_dims[0])\n",
    "        self.last_time_spike_h1 = np.array([np.float('-inf')] * hidden_dims[1])\n",
    "        self.last_time_spike_out = np.array([np.float('-inf')] * out_dim)\n",
    "    \n",
    "    def calc(t, pattern):\n",
    "        self.last_time_spike_inp[pattern == 1] = t\n",
    "\n",
    "        self.layers[0].calc(self, t, self.last_time_spike_inp, self.last_time_spike_h0)\n",
    "        self.last_time_spike_h0[self.layers[0].u[t, :] >= SPIKE_THR] = 1\n",
    "        \n",
    "        self.layers[1].calc(self, t, self.last_time_spike_h0, self.last_time_spike_h1)\n",
    "        self.last_time_spike_h1[self.layers[1].u[t, :] >= SPIKE_THR] = 1\n",
    "        \n",
    "        self.layers[2].calc(self, t, self.last_time_spike_h1, self.last_time_spike_out)\n",
    "        self.last_time_spike_out[self.layers[2].u[t, :] >= SPIKE_THR] = 1\n"
   ]
  }
 ],
 "metadata": {
  "kernelspec": {
   "display_name": "Python 3",
   "language": "python",
   "name": "python3"
  },
  "language_info": {
   "codemirror_mode": {
    "name": "ipython",
    "version": 3
   },
   "file_extension": ".py",
   "mimetype": "text/x-python",
   "name": "python",
   "nbconvert_exporter": "python",
   "pygments_lexer": "ipython3",
   "version": "3.8.5"
  }
 },
 "nbformat": 4,
 "nbformat_minor": 4
}
